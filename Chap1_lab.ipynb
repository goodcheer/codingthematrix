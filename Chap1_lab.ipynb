{
 "cells": [
  {
   "cell_type": "code",
   "execution_count": 3,
   "metadata": {},
   "outputs": [],
   "source": [
    "def makeInverseIndex(strlist):\n",
    "    mydict = {}\n",
    "    for index, doc in enumerate(strlist):\n",
    "        mydict[index] = set(doc.split(\" \"))\n",
    "    return mydict\n",
    "\n",
    "def orSearch(inverseIndex, query):\n",
    "    query = set(query)\n",
    "    result = set()\n",
    "    for k in inverseIndex.keys():\n",
    "        if len(inverseIndex[k].intersection(query)) > 0:\n",
    "            result.add(k)\n",
    "    return result\n",
    "\n",
    "def andSearch(inverseIndex, query):\n",
    "    query = set(query)\n",
    "    result = set()\n",
    "    \n",
    "    for k in inverseIndex.keys():\n",
    "        if len(inverseIndex[k].intersection(query)) == len(query):\n",
    "            result.add(k)\n",
    "    return result\n",
    "\n",
    "def main(file, query):\n",
    "    dat = makeInverseIndex(list(file))\n",
    "    or_result = orSearch(dat, query)\n",
    "    and_result = andSearch(dat, query)\n",
    "    print(\"Document Indices Including queries: \", query)\n",
    "    print(\"or_result: \", or_result)\n",
    "    print(\"and_result: \", and_result)"
   ]
  },
  {
   "cell_type": "code",
   "execution_count": null,
   "metadata": {},
   "outputs": [],
   "source": []
  },
  {
   "cell_type": "code",
   "execution_count": 5,
   "metadata": {},
   "outputs": [
    {
     "name": "stdout",
     "output_type": "stream",
     "text": [
      "Document Indices Including queries:  ['British', 'Class', 'For']\n",
      "or_result:  {1, 2, 3, 9, 11, 12, 13, 14, 18, 21, 22, 24, 25, 26, 32, 35, 37, 38, 39, 40, 41, 45, 46, 47}\n",
      "and_result:  {3}\n",
      "\n",
      "\n",
      "\n",
      "\n",
      "Document Indices Including queries:  ['British', 'Class', 'For']\n",
      "or_result:  {1, 2, 3, 513, 515, 517, 1029, 520, 9, 1033, 11, 12, 13, 14, 523, 524, 527, 18, 530, 531, 21, 22, 1039, 24, 25, 26, 1049, 1050, 1051, 1054, 32, 1056, 35, 1060, 37, 38, 39, 40, 41, 549, 554, 1062, 45, 46, 47, 557, 558, 50, 559, 52, 560, 563, 1071, 1073, 57, 1074, 1075, 60, 61, 62, 572, 575, 1080, 66, 579, 1085, 581, 70, 582, 583, 73, 584, 585, 76, 586, 587, 1094, 592, 1096, 594, 595, 85, 598, 87, 1035, 601, 603, 605, 1036, 607, 608, 98, 611, 1037, 101, 615, 616, 617, 622, 111, 623, 624, 626, 627, 1040, 629, 630, 119, 631, 1041, 122, 124, 636, 641, 131, 643, 645, 134, 138, 139, 143, 656, 658, 147, 150, 151, 662, 153, 154, 664, 665, 157, 671, 672, 165, 166, 168, 172, 686, 690, 179, 181, 695, 696, 701, 705, 706, 707, 709, 199, 711, 713, 715, 717, 208, 210, 723, 212, 724, 727, 218, 737, 739, 231, 232, 744, 1064, 747, 748, 749, 239, 240, 241, 752, 753, 754, 246, 758, 248, 759, 762, 763, 255, 260, 261, 774, 776, 265, 783, 273, 785, 280, 796, 798, 803, 292, 811, 1077, 813, 819, 820, 1079, 310, 829, 319, 833, 322, 834, 835, 325, 838, 328, 330, 842, 332, 333, 846, 336, 853, 856, 345, 858, 347, 1086, 349, 350, 862, 352, 864, 865, 355, 868, 357, 870, 1088, 360, 361, 362, 364, 368, 1091, 371, 883, 884, 376, 377, 888, 889, 894, 384, 387, 909, 910, 399, 1097, 913, 402, 404, 917, 406, 1098, 921, 410, 923, 413, 414, 925, 416, 417, 926, 927, 929, 421, 422, 931, 932, 933, 426, 936, 940, 430, 431, 432, 433, 943, 945, 948, 437, 950, 441, 442, 953, 954, 446, 958, 448, 449, 454, 455, 459, 971, 461, 463, 467, 468, 980, 473, 474, 985, 477, 481, 485, 486, 1000, 489, 490, 491, 1004, 494, 495, 1006, 1011, 1017, 506, 507, 1020, 1023}\n",
      "and_result:  {3}\n"
     ]
    }
   ],
   "source": [
    "query = {\"British\", \"Class\", \"For\"}\n",
    "\n",
    "with open(\"stories_small.txt\") as small:\n",
    "    main(small, [\"British\", \"Class\", \"For\"])\n",
    "\n",
    "print(\"\\n\\n\\n\")\n",
    "\n",
    "with open(\"stories_big.txt\") as big:\n",
    "    main(big, [\"British\", \"Class\", \"For\"])"
   ]
  }
 ],
 "metadata": {
  "kernelspec": {
   "display_name": "Python 3",
   "language": "python",
   "name": "python3"
  },
  "language_info": {
   "codemirror_mode": {
    "name": "ipython",
    "version": 3
   },
   "file_extension": ".py",
   "mimetype": "text/x-python",
   "name": "python",
   "nbconvert_exporter": "python",
   "pygments_lexer": "ipython3",
   "version": "3.6.4"
  }
 },
 "nbformat": 4,
 "nbformat_minor": 2
}
